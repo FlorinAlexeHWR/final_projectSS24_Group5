{
 "cells": [
  {
   "cell_type": "code",
   "execution_count": 28,
   "id": "6ab46c6c",
   "metadata": {},
   "outputs": [],
   "source": [
    "import pandas as pd\n",
    "import numpy as np\n",
    "import matplotlib.pyplot as plt\n",
    "import seaborn as sns\n",
    "from scipy.stats import ttest_ind\n",
    "import statsmodels.api as sm\n",
    "from sklearn.linear_model import LogisticRegression\n",
    "from scipy import stats\n",
    "from sklearn.linear_model import LinearRegression\n",
    "from scipy.stats import zscore\n",
    "from sklearn.preprocessing import StandardScaler\n",
    "from sklearn.model_selection import train_test_split\n"
   ]
  },
  {
   "cell_type": "code",
   "execution_count": 26,
   "id": "9f476ace",
   "metadata": {},
   "outputs": [
    {
     "name": "stdout",
     "output_type": "stream",
     "text": [
      "      Alter          Einkommen     Preis  Geschlecht  Zeit KundeNr\n",
      "0        64            66894.0  88160.31         1.0  43.0   K0310\n",
      "1        54            77644.0  103145.7         1.0  40.0   K1042\n",
      "2        55            44341.0  80565.16         0.0  37.0   K0382\n",
      "3        49            67271.0  83949.89         0.0  42.0   K0498\n",
      "4        46            49832.0  93781.58         0.0  41.0   K0552\n",
      "...     ...                ...       ...         ...   ...     ...\n",
      "1990     32  34391,82496545645       NaN         1.0  48,0   K1211\n",
      "1991     41  68516,49543941053       NaN         0.0  34,0   K1375\n",
      "1992     65  89685,33344089528       NaN         0.0  23,0   K1965\n",
      "1993     68  95714,30526812703       NaN         0.0  32,0   K1540\n",
      "1994     49   73319,1870845747       NaN         0.0  27,0   K1207\n",
      "\n",
      "[1995 rows x 6 columns]\n"
     ]
    }
   ],
   "source": [
    "# Hochladen beider .csv Dateien: kunden & besucher\n",
    "kunden = pd.read_csv('kunden.csv', sep = ';')\n",
    "besucher = pd.read_csv('besucher.csv', sep = ';')\n",
    "\n",
    "# Hinzufügen einer neuen Spalte mit einem Standardwert\n",
    "besucher['Preis'] = 'NaN'\n",
    "\n",
    "# Anpassen der Spaltenreihenfolge, um 'Preis'-Spalte in besucher als dritte Spalte zu setzen\n",
    "cols = list(besucher.columns)\n",
    "cols.insert(2, cols.pop(cols.index('Preis')))\n",
    "besucher = besucher[cols]\n",
    "\n",
    "# Zusammenfügen der DataFrames untereinander (vertikal)\n",
    "combined_draft = pd.concat([kunden, besucher], ignore_index=True, axis = 0)\n",
    "\n",
    "# Sortieren des kombinierten DataFrames nach der Spalte 'KundeNr' aufsteigend\n",
    "combined_sorted = combined_draft.sort_values(by='KundeNr')\n",
    "\n",
    "# Gruppieren der Werte nach Überschrift\n",
    "combined_gruppen = combined_draft.groupby('Geschlecht').size().reset_index(name='Anzahl')\n",
    "\n",
    "# Zählen der Fehlerwerte in allen Spalten\n",
    "na_count = combined_draft.isna().sum()\n",
    "\n",
    "# Ausgabe des sortierten DataFrames\n",
    "print(combined_draft)"
   ]
  },
  {
   "cell_type": "code",
   "execution_count": 11,
   "id": "e4e4e1e9",
   "metadata": {},
   "outputs": [
    {
     "data": {
      "text/html": [
       "<div>\n",
       "<style scoped>\n",
       "    .dataframe tbody tr th:only-of-type {\n",
       "        vertical-align: middle;\n",
       "    }\n",
       "\n",
       "    .dataframe tbody tr th {\n",
       "        vertical-align: top;\n",
       "    }\n",
       "\n",
       "    .dataframe thead th {\n",
       "        text-align: right;\n",
       "    }\n",
       "</style>\n",
       "<table border=\"1\" class=\"dataframe\">\n",
       "  <thead>\n",
       "    <tr style=\"text-align: right;\">\n",
       "      <th></th>\n",
       "      <th>KundeNr</th>\n",
       "      <th>Niederlassung</th>\n",
       "    </tr>\n",
       "  </thead>\n",
       "  <tbody>\n",
       "    <tr>\n",
       "      <th>0</th>\n",
       "      <td>K0001</td>\n",
       "      <td>Sachsen</td>\n",
       "    </tr>\n",
       "    <tr>\n",
       "      <th>1</th>\n",
       "      <td>K0002</td>\n",
       "      <td>Nordrhein-Westfalen</td>\n",
       "    </tr>\n",
       "    <tr>\n",
       "      <th>2</th>\n",
       "      <td>K0003</td>\n",
       "      <td>Hessen</td>\n",
       "    </tr>\n",
       "    <tr>\n",
       "      <th>3</th>\n",
       "      <td>K0004</td>\n",
       "      <td>Bayern</td>\n",
       "    </tr>\n",
       "    <tr>\n",
       "      <th>4</th>\n",
       "      <td>K0005</td>\n",
       "      <td>Bayern</td>\n",
       "    </tr>\n",
       "    <tr>\n",
       "      <th>...</th>\n",
       "      <td>...</td>\n",
       "      <td>...</td>\n",
       "    </tr>\n",
       "    <tr>\n",
       "      <th>1990</th>\n",
       "      <td>K1991</td>\n",
       "      <td>Hessen</td>\n",
       "    </tr>\n",
       "    <tr>\n",
       "      <th>1991</th>\n",
       "      <td>K1992</td>\n",
       "      <td>Baden-Württemberg</td>\n",
       "    </tr>\n",
       "    <tr>\n",
       "      <th>1992</th>\n",
       "      <td>K1993</td>\n",
       "      <td>Nordrhein-Westfalen</td>\n",
       "    </tr>\n",
       "    <tr>\n",
       "      <th>1993</th>\n",
       "      <td>K1994</td>\n",
       "      <td>Berlin</td>\n",
       "    </tr>\n",
       "    <tr>\n",
       "      <th>1994</th>\n",
       "      <td>K1995</td>\n",
       "      <td>Berlin</td>\n",
       "    </tr>\n",
       "  </tbody>\n",
       "</table>\n",
       "<p>1995 rows × 2 columns</p>\n",
       "</div>"
      ],
      "text/plain": [
       "     KundeNr        Niederlassung\n",
       "0      K0001              Sachsen\n",
       "1      K0002  Nordrhein-Westfalen\n",
       "2      K0003               Hessen\n",
       "3      K0004               Bayern\n",
       "4      K0005               Bayern\n",
       "...      ...                  ...\n",
       "1990   K1991               Hessen\n",
       "1991   K1992    Baden-Württemberg\n",
       "1992   K1993  Nordrhein-Westfalen\n",
       "1993   K1994               Berlin\n",
       "1994   K1995               Berlin\n",
       "\n",
       "[1995 rows x 2 columns]"
      ]
     },
     "execution_count": 11,
     "metadata": {},
     "output_type": "execute_result"
    }
   ],
   "source": [
    "land = pd.read_csv('geo.txt', sep = '\\t')\n",
    "\n",
    "# Ersetzen der Werte in der Spalte \"Niederlassung\"\n",
    "land['Niederlassung'] = land['Niederlassung'].replace({\n",
    "    'NRW': 'Nordrhein-Westfalen',\n",
    "    'Düsseldorf': 'Nordrhein-Westfalen',\n",
    "    'Berlin-Charlottenburg': 'Berlin',\n",
    "    'Berlin-Mitte': 'Berlin',\n",
    "    'BERLIN': 'Berlin'\n",
    "})\n",
    "\n",
    "# Gruppieren nach der Spalte \"Niederlassung\" und Zählen der Einträge in jeder Gruppe/ Überprüfen auf Richtigkeit der Bundesländer\n",
    "land_gruppen = land.groupby('Niederlassung').size().reset_index(name='Anzahl')\n",
    "\n",
    "land"
   ]
  },
  {
   "cell_type": "code",
   "execution_count": 12,
   "id": "8fe95da5",
   "metadata": {
    "scrolled": true
   },
   "outputs": [
    {
     "data": {
      "text/html": [
       "<div>\n",
       "<style scoped>\n",
       "    .dataframe tbody tr th:only-of-type {\n",
       "        vertical-align: middle;\n",
       "    }\n",
       "\n",
       "    .dataframe tbody tr th {\n",
       "        vertical-align: top;\n",
       "    }\n",
       "\n",
       "    .dataframe thead th {\n",
       "        text-align: right;\n",
       "    }\n",
       "</style>\n",
       "<table border=\"1\" class=\"dataframe\">\n",
       "  <thead>\n",
       "    <tr style=\"text-align: right;\">\n",
       "      <th></th>\n",
       "      <th>Alter</th>\n",
       "      <th>Einkommen</th>\n",
       "      <th>Preis</th>\n",
       "      <th>Geschlecht</th>\n",
       "      <th>Zeit</th>\n",
       "      <th>KundeNr</th>\n",
       "      <th>Niederlassung</th>\n",
       "    </tr>\n",
       "  </thead>\n",
       "  <tbody>\n",
       "    <tr>\n",
       "      <th>0</th>\n",
       "      <td>68.0</td>\n",
       "      <td>89437.00</td>\n",
       "      <td>114481.90</td>\n",
       "      <td>1.0</td>\n",
       "      <td>62.0</td>\n",
       "      <td>K0001</td>\n",
       "      <td>Sachsen</td>\n",
       "    </tr>\n",
       "    <tr>\n",
       "      <th>1</th>\n",
       "      <td>58.0</td>\n",
       "      <td>65271.00</td>\n",
       "      <td>106258.99</td>\n",
       "      <td>1.0</td>\n",
       "      <td>44.0</td>\n",
       "      <td>K0002</td>\n",
       "      <td>Nordrhein-Westfalen</td>\n",
       "    </tr>\n",
       "    <tr>\n",
       "      <th>2</th>\n",
       "      <td>44.0</td>\n",
       "      <td>48195.00</td>\n",
       "      <td>85705.57</td>\n",
       "      <td>1.0</td>\n",
       "      <td>29.0</td>\n",
       "      <td>K0003</td>\n",
       "      <td>Hessen</td>\n",
       "    </tr>\n",
       "    <tr>\n",
       "      <th>3</th>\n",
       "      <td>37.0</td>\n",
       "      <td>48957.00</td>\n",
       "      <td>76412.36</td>\n",
       "      <td>0.0</td>\n",
       "      <td>36.0</td>\n",
       "      <td>K0004</td>\n",
       "      <td>Bayern</td>\n",
       "    </tr>\n",
       "    <tr>\n",
       "      <th>4</th>\n",
       "      <td>50.0</td>\n",
       "      <td>56621.00</td>\n",
       "      <td>92898.67</td>\n",
       "      <td>0.0</td>\n",
       "      <td>40.0</td>\n",
       "      <td>K0005</td>\n",
       "      <td>Bayern</td>\n",
       "    </tr>\n",
       "    <tr>\n",
       "      <th>...</th>\n",
       "      <td>...</td>\n",
       "      <td>...</td>\n",
       "      <td>...</td>\n",
       "      <td>...</td>\n",
       "      <td>...</td>\n",
       "      <td>...</td>\n",
       "      <td>...</td>\n",
       "    </tr>\n",
       "    <tr>\n",
       "      <th>1990</th>\n",
       "      <td>48.0</td>\n",
       "      <td>59967.31</td>\n",
       "      <td>NaN</td>\n",
       "      <td>1.0</td>\n",
       "      <td>21.0</td>\n",
       "      <td>K1991</td>\n",
       "      <td>Hessen</td>\n",
       "    </tr>\n",
       "    <tr>\n",
       "      <th>1991</th>\n",
       "      <td>67.0</td>\n",
       "      <td>81521.76</td>\n",
       "      <td>NaN</td>\n",
       "      <td>1.0</td>\n",
       "      <td>21.0</td>\n",
       "      <td>K1992</td>\n",
       "      <td>Baden-Württemberg</td>\n",
       "    </tr>\n",
       "    <tr>\n",
       "      <th>1992</th>\n",
       "      <td>40.0</td>\n",
       "      <td>41616.57</td>\n",
       "      <td>NaN</td>\n",
       "      <td>0.0</td>\n",
       "      <td>48.0</td>\n",
       "      <td>K1993</td>\n",
       "      <td>Nordrhein-Westfalen</td>\n",
       "    </tr>\n",
       "    <tr>\n",
       "      <th>1993</th>\n",
       "      <td>49.0</td>\n",
       "      <td>76602.79</td>\n",
       "      <td>NaN</td>\n",
       "      <td>1.0</td>\n",
       "      <td>19.0</td>\n",
       "      <td>K1994</td>\n",
       "      <td>Berlin</td>\n",
       "    </tr>\n",
       "    <tr>\n",
       "      <th>1994</th>\n",
       "      <td>49.0</td>\n",
       "      <td>54754.53</td>\n",
       "      <td>NaN</td>\n",
       "      <td>1.0</td>\n",
       "      <td>44.0</td>\n",
       "      <td>K1995</td>\n",
       "      <td>Berlin</td>\n",
       "    </tr>\n",
       "  </tbody>\n",
       "</table>\n",
       "<p>1995 rows × 7 columns</p>\n",
       "</div>"
      ],
      "text/plain": [
       "      Alter  Einkommen      Preis Geschlecht  Zeit KundeNr  \\\n",
       "0      68.0   89437.00  114481.90        1.0  62.0   K0001   \n",
       "1      58.0   65271.00  106258.99        1.0  44.0   K0002   \n",
       "2      44.0   48195.00   85705.57        1.0  29.0   K0003   \n",
       "3      37.0   48957.00   76412.36        0.0  36.0   K0004   \n",
       "4      50.0   56621.00   92898.67        0.0  40.0   K0005   \n",
       "...     ...        ...        ...        ...   ...     ...   \n",
       "1990   48.0   59967.31        NaN        1.0  21.0   K1991   \n",
       "1991   67.0   81521.76        NaN        1.0  21.0   K1992   \n",
       "1992   40.0   41616.57        NaN        0.0  48.0   K1993   \n",
       "1993   49.0   76602.79        NaN        1.0  19.0   K1994   \n",
       "1994   49.0   54754.53        NaN        1.0  44.0   K1995   \n",
       "\n",
       "            Niederlassung  \n",
       "0                 Sachsen  \n",
       "1     Nordrhein-Westfalen  \n",
       "2                  Hessen  \n",
       "3                  Bayern  \n",
       "4                  Bayern  \n",
       "...                   ...  \n",
       "1990               Hessen  \n",
       "1991    Baden-Württemberg  \n",
       "1992  Nordrhein-Westfalen  \n",
       "1993               Berlin  \n",
       "1994               Berlin  \n",
       "\n",
       "[1995 rows x 7 columns]"
      ]
     },
     "execution_count": 12,
     "metadata": {},
     "output_type": "execute_result"
    }
   ],
   "source": [
    "# Anpassen der Spaltenreihenfolge, um \"Niederlassung\" als siebente (in Python sechste, weil Beginn = 0) Spalte zu setzen\n",
    "cols = list(combined_draft.columns)\n",
    "cols.insert(6, cols.pop(cols.index('KundeNr')))\n",
    "combined = combined_draft[cols]\n",
    "\n",
    "# Zusammenführen von \"combined_draft\" und \"land\", Sortierung nach \"KundeNr\" und Einfügen der \"Niederlassung\" Werte in Spalte \"Niederlassung\"\n",
    "combined = pd.merge(combined_draft, land, on='KundeNr', how='right')\n",
    "\n",
    "# Ersetzen von Kommas durch Punkte in allen Spalten\n",
    "combined['Zeit'] = combined['Zeit'].astype(str).str.replace(',', '.', regex=False)\n",
    "combined['Einkommen'] = combined['Einkommen'].astype(str).str.replace(',', '.', regex=False)\n",
    "combined['Preis'] = combined['Preis'].astype(str).str.replace(',', '.', regex=False)\n",
    "combined['Geschlecht'] = combined['Geschlecht'].astype(str).str.replace(',', '.', regex=False)\n",
    "\n",
    "spalten_int = ['Einkommen', 'Preis']\n",
    "for col in spalten_int:\n",
    "    combined[col] = pd.to_numeric(combined[col], errors='coerce')\n",
    "\n",
    "# Runden der Werte in 'Einkommen' und 'Preis'\n",
    "combined['Einkommen'] = combined['Einkommen'].round(2)\n",
    "combined['Preis'] = combined['Preis'].round(2)\n",
    "\n",
    "# Speichern des aktualisierten DataFrames in eine neue CSV-Datei\n",
    "# combined_df.to_csv('final_project/kunden_mit_niederlassung.csv', index=False)\n",
    "\n",
    "spalten = ['Alter', 'Einkommen', 'Preis', 'Zeit']\n",
    "\n",
    "# Berechnen der Z-Scores für die oben angegebenen Spalten\n",
    "numeric_cols = combined.select_dtypes(include=np.number).columns\n",
    "z_scores = combined[numeric_cols].apply(zscore)\n",
    "\n",
    "# Ersetzen der Werte mit dem Medianwert, die einen Z-Score <3 oder >3 haben\n",
    "for col in numeric_cols:\n",
    "    median = combined[col].median()\n",
    "    combined[col] = np.where(np.abs(z_scores[col]) > 3, median, combined[col])\n",
    "\n",
    "# Ausgabe des Ergebnisses\n",
    "combined"
   ]
  },
  {
   "cell_type": "code",
   "execution_count": 6,
   "id": "18323101",
   "metadata": {},
   "outputs": [],
   "source": [
    "# Speichern des aktualisierten DataFrames in eine neue CSV-Datei\n",
    "combined.to_csv('combined.csv', index=False)"
   ]
  },
  {
   "cell_type": "markdown",
   "id": "1d67e45c",
   "metadata": {},
   "source": [
    "# F1. Wie viele Autos wurden verkauft?"
   ]
  },
  {
   "cell_type": "code",
   "execution_count": 13,
   "id": "96cf1ce1",
   "metadata": {},
   "outputs": [
    {
     "name": "stdout",
     "output_type": "stream",
     "text": [
      "Es wurden insgesamt 1104 Autos verkauft.\n"
     ]
    }
   ],
   "source": [
    "# Importieren der zusammengefügten Datei \"combined.csv\" und Aufteilen der Werte in Zeilen\n",
    "# combined = pd.read_csv('combined.csv', sep = ',')\n",
    "\n",
    "# Zählen der Preis und dadurch die Anzahl der verkauften Autos\n",
    "verkaufte_autos  = combined['Preis'].count()\n",
    "\n",
    "# Ausgeben des Ergebnisses\n",
    "print(f\"Es wurden insgesamt {verkaufte_autos} Autos verkauft.\")"
   ]
  },
  {
   "cell_type": "markdown",
   "id": "a32cb7eb",
   "metadata": {},
   "source": [
    "# F2. Was ist der Höchst-, Mindest- und Durchschnittspreis der verkauften Autos?\n"
   ]
  },
  {
   "cell_type": "code",
   "execution_count": 15,
   "id": "ef3f7996",
   "metadata": {},
   "outputs": [
    {
     "name": "stdout",
     "output_type": "stream",
     "text": [
      "F2: Höchstpreis: 165482.31, Mindestpreis: 21471.65, Durchschnittspreis:  88975.20\n"
     ]
    }
   ],
   "source": [
    "max_preis = combined['Preis'].astype(float).max()\n",
    "min_preis = combined['Preis'].astype(float).min()\n",
    "avg_preis = combined['Preis'].astype(float).mean()\n",
    "\n",
    "print(f\"F2: Höchstpreis: {max_preis}, Mindestpreis: {min_preis}, Durchschnittspreis: {avg_preis: .2f}\")"
   ]
  },
  {
   "cell_type": "markdown",
   "id": "64d19a01",
   "metadata": {},
   "source": [
    "# F3.Wie hoch war der Gesamtumsatz?"
   ]
  },
  {
   "cell_type": "code",
   "execution_count": 7,
   "id": "dab77ad4",
   "metadata": {},
   "outputs": [
    {
     "name": "stdout",
     "output_type": "stream",
     "text": [
      "Gesamtumsatz: 98228619.38\n"
     ]
    }
   ],
   "source": [
    "# Berechnung des Gesamtumsatzes (Summe der Preise) \n",
    "gesamtumsatz = combined['Preis'].astype(float).sum() \n",
    "print(f\"Gesamtumsatz: {gesamtumsatz}\")\n"
   ]
  },
  {
   "cell_type": "markdown",
   "id": "f1ad706f",
   "metadata": {},
   "source": [
    "# F4. Wie viele Autos wurden pro Bundesland verkauft?"
   ]
  },
  {
   "cell_type": "code",
   "execution_count": 16,
   "id": "0f2e4394",
   "metadata": {},
   "outputs": [
    {
     "name": "stdout",
     "output_type": "stream",
     "text": [
      "Anzahl verkaufter Autos pro Bundesland:\n",
      "\n",
      "         Bundesland  Verkaufte Autos\n",
      "        Brandenburg               37\n",
      "            Hamburg               43\n",
      "          Thüringen               49\n",
      "            Sachsen               89\n",
      "             Hessen               96\n",
      "      Niedersachsen               96\n",
      "             Berlin              126\n",
      "Nordrhein-Westfalen              175\n",
      "             Bayern              188\n",
      "  Baden-Württemberg              205\n"
     ]
    }
   ],
   "source": [
    "# combined = pd.read_csv('combined.csv')\n",
    "\n",
    "# Gruppieren der Bundesländer und Zählen der Preise, daher auch Anzahl verkaufter Autos. Zurücksetzen des Indexes.\n",
    "verkäufe_pro_bundesland = combined.groupby('Niederlassung')['Preis'].count().reset_index()\n",
    "\n",
    "# Umbenennen der Spalten \"Niederlassung\" und \"Preis\"\n",
    "verkäufe_pro_bundesland = verkäufe_pro_bundesland.rename(columns={'Niederlassung': 'Bundesland', 'Preis': 'Verkaufte Autos'}).sort_values('Verkaufte Autos').reset_index(drop = True)\n",
    "\n",
    "# Überschrift für das Ergebnis\n",
    "print(\"Anzahl verkaufter Autos pro Bundesland:\\n\")\n",
    "\n",
    "# Ausgeben des Ergebnisses und Entfernen des Indexes\n",
    "print(verkäufe_pro_bundesland.to_string(index = False))"
   ]
  },
  {
   "cell_type": "markdown",
   "id": "80f6e5a3",
   "metadata": {},
   "source": [
    "# F5. Wie hoch war der durchschnittliche Umsatz pro Bundesland?"
   ]
  },
  {
   "cell_type": "code",
   "execution_count": 8,
   "id": "ff38be1d",
   "metadata": {},
   "outputs": [
    {
     "name": "stdout",
     "output_type": "stream",
     "text": [
      "F5: Durchschnittlicher Umsatz pro Bundesland:\n",
      "      Niederlassung  Durchschnittlicher Umsatz\n",
      "  Baden-Württemberg                   90969.56\n",
      "          Thüringen                   90816.99\n",
      "             Berlin                   89584.98\n",
      "            Sachsen                   89455.08\n",
      "             Bayern                   89344.31\n",
      "Nordrhein-Westfalen                   88633.27\n",
      "      Niedersachsen                   87963.31\n",
      "        Brandenburg                   86673.64\n",
      "             Hessen                   85864.93\n",
      "            Hamburg                   85549.50\n"
     ]
    }
   ],
   "source": [
    "bundeslaender= combined[combined['Preis'].notna()]['Niederlassung'].unique()\n",
    "\n",
    "umsatz_pro_bundesland = {}\n",
    "\n",
    "for bundesland in bundeslaender:\n",
    "    umsatz_pro_bundesland[bundesland] = combined[(combined['Niederlassung'] == bundesland) & (combined['Preis'].notna())]['Preis'].astype(float).mean()\n",
    "    \n",
    "umsatz_pro_bundesland_df = pd.DataFrame(umsatz_pro_bundesland.items(), columns=['Niederlassung','Durchschnittlicher Umsatz'])\n",
    "\n",
    "umsatz_pro_bundesland_df['Durchschnittlicher Umsatz'] = umsatz_pro_bundesland_df['Durchschnittlicher Umsatz'].round(2)\n",
    "umsatz_pro_bundesland_df = umsatz_pro_bundesland_df.sort_values(by='Durchschnittlicher Umsatz', ascending=False)\n",
    "\n",
    "\n",
    "print(f\"F5: Durchschnittlicher Umsatz pro Bundesland:\\n{umsatz_pro_bundesland_df.to_string(index=False)}\")\n"
   ]
  },
  {
   "cell_type": "markdown",
   "id": "ebaf43d0",
   "metadata": {},
   "source": [
    "# F6. In welchem Bundesland wurde das teuerste Auto verkauft?"
   ]
  },
  {
   "cell_type": "code",
   "execution_count": 9,
   "id": "af163323",
   "metadata": {},
   "outputs": [
    {
     "name": "stdout",
     "output_type": "stream",
     "text": [
      "Das teuerste Auto wurde im Bundesland Baden-Württemberg verkauft, mit einem Durchschnittspreis von 90969.56.\n"
     ]
    }
   ],
   "source": [
    "# Zuerst sicherstellen, dass die Preise als Float interpretiert werden können\n",
    "combined['Preis'] = combined['Preis'].astype(float)\n",
    "\n",
    "# Bundesländer mit dem höchsten durchschnittlichen Preis ermitteln\n",
    "durchschnittlicher_preis_pro_bundesland = combined.groupby('Niederlassung')['Preis'].mean()\n",
    "teuerstes_bundesland = durchschnittlicher_preis_pro_bundesland.idxmax()\n",
    "hoechster_preis = durchschnittlicher_preis_pro_bundesland.max()\n",
    "\n",
    "print(f\"Das teuerste Auto wurde im Bundesland {teuerstes_bundesland} verkauft, mit einem Durchschnittspreis von {hoechster_preis:.2f}.\")\n",
    "\n"
   ]
  },
  {
   "cell_type": "markdown",
   "id": "ad7724eb",
   "metadata": {},
   "source": [
    "# F7. Haben mehr Frauen oder mehr Männer unsere Autos gekauft?"
   ]
  },
  {
   "cell_type": "code",
   "execution_count": 17,
   "id": "e1a1a81b",
   "metadata": {},
   "outputs": [
    {
     "name": "stdout",
     "output_type": "stream",
     "text": [
      "Insgesamt haben 398 Männer unsere Autos gekauft.\n",
      "Insgesamt haben 701 Frauen unsere Autos gekauft.\n",
      "\n",
      "Wir haben mehr weibliche Kunden.\n"
     ]
    }
   ],
   "source": [
    "# combined = pd.read_csv('combined.csv')\n",
    "\n",
    "# Filtern nach \"Preis\", sodass nur die verkauften Autos betrachtet werden\n",
    "verkaufte_autos = combined.dropna(subset=['Preis'])\n",
    "\n",
    "# Anzahl der verkauften Autos nach Geschlecht zählen\n",
    "geschlechter = verkaufte_autos['Geschlecht'].value_counts()\n",
    "\n",
    "# Berechnung der Ergebnisse\n",
    "maenner = geschlechter.get(1, 0)\n",
    "frauen = geschlechter.get(0, 0)\n",
    "\n",
    "# Ausgabe der Ergbenisse\n",
    "print(f\"Insgesamt haben {maenner} Männer unsere Autos gekauft.\")\n",
    "print(f\"Insgesamt haben {frauen} Frauen unsere Autos gekauft.\\n\")\n",
    "\n",
    "# Berechnung und Ausgabe des Ergebnisses, ob mehr männliche oder mehr weibliche Kunden\n",
    "if maenner > frauen:\n",
    "    print(\"Wir haben mehr männliche Kunden.\")\n",
    "elif frauen > maenner:\n",
    "    print(\"Wir haben mehr weibliche Kunden.\")\n",
    "else:\n",
    "    print(\"Unsere Kundschaft ist zu gleichen Teilen männlich und weiblich.\")"
   ]
  },
  {
   "cell_type": "markdown",
   "id": "0ef24e0b",
   "metadata": {},
   "source": [
    "# F8. Wie hoch ist das Durchschnittsalter unserer Kunden? Wie hoch ist das Durchschnittsalter unserer Besucher?\n"
   ]
  },
  {
   "cell_type": "code",
   "execution_count": 10,
   "id": "b126a40e",
   "metadata": {},
   "outputs": [
    {
     "name": "stdout",
     "output_type": "stream",
     "text": [
      "   Alter  Einkommen      Preis  Geschlecht  Zeit KundeNr        Niederlassung\n",
      "0     68    89437.0  114481.90         1.0  62.0   K0001              Sachsen\n",
      "1     58    65271.0  106258.99         1.0  44.0   K0002  Nordrhein-Westfalen\n",
      "2     44    48195.0   85705.57         1.0  29.0   K0003               Hessen\n",
      "3     37    48957.0   76412.36         0.0  36.0   K0004               Bayern\n",
      "4     50    56621.0   92898.67         0.0  40.0   K0005               Bayern\n"
     ]
    }
   ],
   "source": [
    "# Lesen der bereinigten und zusammengeführten Daten\n",
    "combined = pd.read_csv('H:/Documents/final_projectSS24_Group5/combined.csv')\n",
    "\n",
    "# Sicherstellen, dass die Daten korrekt eingelesen wurden\n",
    "print(combined.head())\n"
   ]
  },
  {
   "cell_type": "code",
   "execution_count": 11,
   "id": "68408cfd",
   "metadata": {},
   "outputs": [],
   "source": [
    "#Funktion zur Entfernung von Ausreißern IQR:\n",
    "def remove_outliers(df, column):\n",
    "    Q1 = df[column].quantile(0.25)\n",
    "    Q3 = df[column].quantile(0.75)\n",
    "    IQR = Q3 - Q1\n",
    "    lower_bound = Q1 - 1.5 * IQR\n",
    "    upper_bound = Q3 + 1.5 * IQR\n",
    "    return df[(df[column]>= lower_bound)&(df[column]<= upper_bound)]"
   ]
  },
  {
   "cell_type": "code",
   "execution_count": 12,
   "id": "08464608",
   "metadata": {},
   "outputs": [
    {
     "name": "stdout",
     "output_type": "stream",
     "text": [
      "F8: Durchschnittliches Alter der Kunden: 50.37386569872958\n",
      "F8: Durchschnittliches Alter der Besucher: 49.88103254769921\n"
     ]
    }
   ],
   "source": [
    "#Aufteilung Kunden/Besucher\n",
    "kunden = combined[combined['Preis'].notna()]\n",
    "besucher = combined[combined['Preis'].isna()]\n",
    "\n",
    "#Aureißer werden entfernt\n",
    "kunden = remove_outliers(kunden, 'Alter')\n",
    "besucher = remove_outliers(besucher, 'Alter')\n",
    "\n",
    "#Durchschnittsalter der beiden Gruppen\n",
    "avg_alter_kunden = kunden['Alter'].astype(float).mean()\n",
    "avg_alter_besucher = besucher['Alter'].astype(float).mean()\n",
    "\n",
    "#Print\n",
    "print(f\"F8: Durchschnittliches Alter der Kunden: {avg_alter_kunden}\")\n",
    "print(f\"F8: Durchschnittliches Alter der Besucher: {avg_alter_besucher}\")\n"
   ]
  },
  {
   "cell_type": "markdown",
   "id": "ef42c79c",
   "metadata": {},
   "source": [
    "# F9. Wie hoch ist das Durchschnittseinkommen unserer Kunden? Wie hoch ist das Durchschnittseinkommen unserer Besucher?"
   ]
  },
  {
   "cell_type": "markdown",
   "id": "19629bfa",
   "metadata": {},
   "source": [
    "# +"
   ]
  },
  {
   "cell_type": "markdown",
   "id": "77cc315e",
   "metadata": {},
   "source": [
    "# F10. Bestimmen Sie, ob es einen statistisch signifikanten Unterschied zwischen dem Durchschnittseinkommen der Kunden und dem Durchschnittseinkommen der Besucher gibt."
   ]
  },
  {
   "cell_type": "code",
   "execution_count": 13,
   "id": "ecb40918",
   "metadata": {},
   "outputs": [
    {
     "name": "stdout",
     "output_type": "stream",
     "text": [
      "Durchschnittseinkommen der Kunden : 58850.32 Euro\n",
      "Durchschnittseinkommen der Besucher : 59420.53 Euro\n",
      "Der Unterschied im Durchschnittseinkommen zwischen Kunden und Besuchern ist nicht statistisch signifikant (p-Wert: 0.4365).\n"
     ]
    }
   ],
   "source": [
    "def remove_outliers(df, column):\n",
    "    Q1 = df[column].quantile(0.25)   #AUF AUFREIßER AUFPASSEN!!!!\n",
    "    Q3 = df[column].quantile(0.75)\n",
    "    IQR = Q3 - Q1\n",
    "    lower_bound = Q1 - 1.5 * IQR\n",
    "    upper_bound = Q3 + 1.5 * IQR\n",
    "    return df[(df[column] >= lower_bound) & (df[column] <= upper_bound)]\n",
    "\n",
    "# Bereinigung der Daten\n",
    "kunden_einkommen = combined[combined['Preis'].notna()]['Einkommen']\n",
    "besucher_einkommen = combined[combined['Preis'].isna()]['Einkommen']\n",
    "\n",
    "# Entfernen der Ausreißer\n",
    "kunden_einkommen_cleaned = remove_outliers(combined[combined['Preis'].notna()], 'Einkommen')['Einkommen']\n",
    "besucher_einkommen_cleaned = remove_outliers(combined[combined['Preis'].isna()], 'Einkommen')['Einkommen']\n",
    "\n",
    "# Durchschnittseinkommen after Cleanup - Frage 9\n",
    "avg_einkommen_kunden_cleaned = kunden_einkommen_cleaned.mean()\n",
    "avg_einkommen_besucher_cleaned = besucher_einkommen_cleaned.mean()\n",
    "\n",
    "print(f\"Durchschnittseinkommen der Kunden : {avg_einkommen_kunden_cleaned:.2f} Euro\")\n",
    "print(f\"Durchschnittseinkommen der Besucher : {avg_einkommen_besucher_cleaned:.2f} Euro\")\n",
    "\n",
    "# Zweistichproben-t-Test mit bereinigten Daten\n",
    "t_stat, p_val = ttest_ind(\n",
    "    kunden_einkommen_cleaned,\n",
    "    besucher_einkommen_cleaned,\n",
    "    equal_var=True\n",
    ")\n",
    "\n",
    "# Signifikanzniveau\n",
    "alpha = 0.05\n",
    "\n",
    "# Überprüfung, ob der Unterschied statistisch signifikant ist\n",
    "signifikanz = 'statistisch signifikant' if p_val < alpha else 'nicht statistisch signifikant'\n",
    "print(f\"Der Unterschied im Durchschnittseinkommen zwischen Kunden und Besuchern ist {signifikanz} (p-Wert: {p_val:.4f}).\")"
   ]
  },
  {
   "cell_type": "markdown",
   "id": "e5d18e5a",
   "metadata": {},
   "source": [
    "# F11. Wie hoch ist die Korrelation (Pearson-Korrelation) zwischen den Variablen Alter, Einkommen, Preis und Zeit?"
   ]
  },
  {
   "cell_type": "code",
   "execution_count": 14,
   "id": "3ddbc336",
   "metadata": {},
   "outputs": [
    {
     "name": "stdout",
     "output_type": "stream",
     "text": [
      "Pearson-Korrelation zwischen Alter, Einkommen, Preis und Zeit:\n",
      "              Alter  Einkommen     Preis      Zeit\n",
      "Alter      1.000000   0.033586  0.770675  0.318175\n",
      "Einkommen  0.033586   1.000000 -0.001685  0.022912\n",
      "Preis      0.770675  -0.001685  1.000000  0.707778\n",
      "Zeit       0.318175   0.022912  0.707778  1.000000\n"
     ]
    }
   ],
   "source": [
    "# Um die Korrelation zu berechnen, verwenden wir die corr()-Funktion von Pandas DataFrame\n",
    "correlation_matrix = combined[['Alter', 'Einkommen', 'Preis', 'Zeit']].astype(float).corr(method='pearson')\n",
    "\n",
    "# Ausgabe der Korrelationsmatrix\n",
    "print(\"Pearson-Korrelation zwischen Alter, Einkommen, Preis und Zeit:\")\n",
    "print(correlation_matrix)\n"
   ]
  },
  {
   "cell_type": "markdown",
   "id": "3094a253",
   "metadata": {},
   "source": [
    "# F12. Testen Sie grafisch mit Hilfe eines qq-Plots, ob die Variable Zeit approximativ normalverteilt ist."
   ]
  },
  {
   "cell_type": "code",
   "execution_count": 15,
   "id": "3edeeb83",
   "metadata": {},
   "outputs": [
    {
     "data": {
      "image/png": "[encoded data removed]",
      "text/plain": [
       "<Figure size 640x480 with 1 Axes>"
      ]
     },
     "metadata": {},
     "output_type": "display_data"
    }
   ],
   "source": [
    "# Umwandeln der Zeit-Spalte in float und Behandlung von NaN-Werten\n",
    "combined['Zeit'] = pd.to_numeric(combined['Zeit'], errors='coerce')\n",
    "\n",
    "# Entfernen von NaN-Werten, da sie den QQ-Plot beeinflussen können\n",
    "zeit_clean = combined['Zeit'].dropna()\n",
    "\n",
    "# Erstellen des QQ-Plots\n",
    "stats.probplot(zeit_clean, dist=\"norm\", plot=plt)\n",
    "plt.title('QQ Plot - Zeit')\n",
    "plt.xlabel('Theoretische Quantile')\n",
    "plt.ylabel('Datenquantile')\n",
    "plt.show()\n"
   ]
  },
  {
   "cell_type": "markdown",
   "id": "19d5001d",
   "metadata": {},
   "source": [
    "# F13. Wie viele Kunden haben keinen Bankkredit aufgenommen, um das Auto zu kaufen?"
   ]
  },
  {
   "cell_type": "code",
   "execution_count": 18,
   "id": "91aefc0c",
   "metadata": {},
   "outputs": [
    {
     "name": "stdout",
     "output_type": "stream",
     "text": [
      "Es haben insgesamt 1099 Kunden einen Kredit für den Kauf aufgenommen.\n"
     ]
    }
   ],
   "source": [
    "# combined = pd.read_csv('combined.csv')\n",
    "\n",
    "# Annahme: Kunden, deren Gehalt höher ist als der Kaufpreis nehmen keinen Kredit auf\n",
    "kunden_mit_kredit = combined[combined['Einkommen'] < combined['Preis']]\n",
    "\n",
    "# Kunden die einen Kredit aufgenommen haben zählen\n",
    "kredite = len(kunden_mit_kredit)\n",
    "\n",
    "# Ausgabe des Ergebnisses\n",
    "print(f\"Es haben insgesamt {kredite} Kunden einen Kredit für den Kauf aufgenommen.\")"
   ]
  },
  {
   "cell_type": "markdown",
   "id": "4dc8a21e",
   "metadata": {},
   "source": [
    "# F14. Welche sozioökonomischen Merkmale beeinflussen den Kaufpreis? Wählen Sie die geeigneten unabhängigen Variablen aus und schätzen Sie eine Regression unter Verwendung der geeigneten Methode."
   ]
  },
  {
   "cell_type": "code",
   "execution_count": 16,
   "id": "976684b0",
   "metadata": {},
   "outputs": [
    {
     "name": "stdout",
     "output_type": "stream",
     "text": [
      "Index(['Alter', 'Einkommen', 'Preis', 'Geschlecht', 'Zeit', 'KundeNr',\n",
      "       'Niederlassung'],\n",
      "      dtype='object')\n",
      "                            OLS Regression Results                            \n",
      "==============================================================================\n",
      "Dep. Variable:                  Preis   R-squared:                       0.695\n",
      "Model:                            OLS   Adj. R-squared:                  0.694\n",
      "Method:                 Least Squares   F-statistic:                     835.8\n",
      "Date:                Tue, 25 Jun 2024   Prob (F-statistic):          4.59e-283\n",
      "Time:                        13:31:10   Log-Likelihood:                -12066.\n",
      "No. Observations:                1104   AIC:                         2.414e+04\n",
      "Df Residuals:                    1100   BIC:                         2.416e+04\n",
      "Df Model:                           3                                         \n",
      "Covariance Type:            nonrobust                                         \n",
      "==============================================================================\n",
      "                 coef    std err          t      P>|t|      [0.025      0.975]\n",
      "------------------------------------------------------------------------------\n",
      "const      -4946.4992   1924.496     -2.570      0.010   -8722.598   -1170.401\n",
      "Alter       1087.9416     41.145     26.442      0.000    1007.210    1168.673\n",
      "Einkommen  -2.747e-05   1.35e-05     -2.028      0.043   -5.41e-05    -8.9e-07\n",
      "Zeit         879.4604     46.334     18.981      0.000     788.547     970.374\n",
      "==============================================================================\n",
      "Omnibus:                       20.822   Durbin-Watson:                   2.088\n",
      "Prob(Omnibus):                  0.000   Jarque-Bera (JB):               29.208\n",
      "Skew:                          -0.200   Prob(JB):                     4.55e-07\n",
      "Kurtosis:                       3.690   Cond. No.                     1.42e+08\n",
      "==============================================================================\n",
      "\n",
      "Notes:\n",
      "[1] Standard Errors assume that the covariance matrix of the errors is correctly specified.\n",
      "[2] The condition number is large, 1.42e+08. This might indicate that there are\n",
      "strong multicollinearity or other numerical problems.\n"
     ]
    }
   ],
   "source": [
    "# Daten einlesen\n",
    "combined = pd.read_csv('combined.csv')\n",
    "\n",
    "# Sicherstellen, dass die relevanten Spalten vorhanden sind\n",
    "print(combined.columns)\n",
    "\n",
    "# Umwandeln von relevanten Spalten in numerische Werte\n",
    "combined['Alter'] = pd.to_numeric(combined['Alter'], errors='coerce')\n",
    "combined['Einkommen'] = pd.to_numeric(combined['Einkommen'], errors='coerce')\n",
    "combined['Preis'] = pd.to_numeric(combined['Preis'], errors='coerce')\n",
    "combined['Zeit'] = pd.to_numeric(combined['Zeit'], errors='coerce')\n",
    "\n",
    "# Filtern der Daten um NaN-Werte zu entfernen (aber keine Ausreißer filtern)\n",
    "combined = combined.dropna(subset=['Preis', 'Alter', 'Einkommen', 'Zeit'])\n",
    "\n",
    "# Unabhängige Variablen\n",
    "X = combined[['Alter', 'Einkommen', 'Zeit']]\n",
    "\n",
    "# Abhängige Variable\n",
    "y = combined['Preis']\n",
    "\n",
    "# Hinzufügen eines konstanten Terms zur Regressionsgleichung\n",
    "X = sm.add_constant(X)\n",
    "\n",
    "# Regression durchführen\n",
    "model = sm.OLS(y, X).fit()\n",
    "\n",
    "# Zusammenfassung des Modells ausgeben\n",
    "print(model.summary())"
   ]
  },
  {
   "cell_type": "markdown",
   "id": "95b3188f",
   "metadata": {},
   "source": [
    "# F15. Prognostizieren Sie den Kaufpreis eines unserer Autos für einen männlichen kunden im Alter von 32 Jahren mit einem Einkommen von 30.000 Euro. Prognostizieren Sie den Kaufpreis eines unserer Autos für einen männlichen Kunden im Alter von 51 Jahren und mit einem Einkommen von 54.000 Euro."
   ]
  },
  {
   "cell_type": "code",
   "execution_count": 17,
   "id": "34907f2f",
   "metadata": {},
   "outputs": [
    {
     "name": "stdout",
     "output_type": "stream",
     "text": [
      "Prognostizierter Kaufpreis für einen 32-jährigen Kunden mit einem Einkommen von 30.000 Euro: 51381.64 Euro\n",
      "Prognostizierter Kaufpreis für einen 51-jährigen Kunden mit einem Einkommen von 54.000 Euro: 85526.63 Euro\n"
     ]
    },
    {
     "name": "stderr",
     "output_type": "stream",
     "text": [
      "C:\\ProgramData\\anaconda3\\Lib\\site-packages\\sklearn\\base.py:464: UserWarning: X does not have valid feature names, but LinearRegression was fitted with feature names\n",
      "  warnings.warn(\n",
      "C:\\ProgramData\\anaconda3\\Lib\\site-packages\\sklearn\\base.py:464: UserWarning: X does not have valid feature names, but LinearRegression was fitted with feature names\n",
      "  warnings.warn(\n"
     ]
    }
   ],
   "source": [
    "# Zusammenfügen der DataFrames\n",
    "besucher['Preis'] = np.nan\n",
    "cols = list(besucher.columns)\n",
    "cols.insert(2, cols.pop(cols.index('Preis')))\n",
    "besucher = besucher[cols]\n",
    "combined_draft = pd.concat([kunden, besucher], ignore_index=True, axis=0)\n",
    "\n",
    "# Ersetzen von Kommas durch Punkte und Konvertieren der Spalten in numerische Werte\n",
    "combined_draft['Einkommen'] = combined_draft['Einkommen'].astype(str).str.replace(',', '.').astype(float)\n",
    "combined_draft['Preis'] = combined_draft['Preis'].astype(str).str.replace(',', '.').astype(float)\n",
    "combined_draft['Alter'] = combined_draft['Alter'].astype(int)\n",
    "combined_draft['Geschlecht'] = combined_draft['Geschlecht'].astype(float)\n",
    "\n",
    "# Filtern der Daten für männliche Kunden\n",
    "males = combined_draft[combined_draft['Geschlecht'] == 1.0]\n",
    "\n",
    "# Entfernen von Zeilen mit fehlenden Werten\n",
    "males = males.dropna(subset=['Preis'])\n",
    "\n",
    "# Lineare Regression\n",
    "X = males[['Alter', 'Einkommen']]\n",
    "y = males['Preis']\n",
    "# Modelltraining\n",
    "model = LinearRegression()\n",
    "model.fit(X, y)\n",
    "\n",
    "# Prognose für die beiden gegebenen Fälle\n",
    "kunden1 = np.array([[32, 30000]])\n",
    "kunden2 = np.array([[51, 54000]])\n",
    "\n",
    "preis1 = model.predict(kunden1)\n",
    "preis2 = model.predict(kunden2)\n",
    "\n",
    "print(f'Prognostizierter Kaufpreis für einen 32-jährigen Kunden mit einem Einkommen von 30.000 Euro: {preis1[0]:.2f} Euro')\n",
    "print(f'Prognostizierter Kaufpreis für einen 51-jährigen Kunden mit einem Einkommen von 54.000 Euro: {preis2[0]:.2f} Euro')\n"
   ]
  },
  {
   "cell_type": "markdown",
   "id": "aabb69b2",
   "metadata": {},
   "source": [
    "# F16. Welche Variable beeinflusst den Preis des Autos am meisten?"
   ]
  },
  {
   "cell_type": "code",
   "execution_count": 29,
   "id": "94ef0125",
   "metadata": {},
   "outputs": [
    {
     "name": "stdout",
     "output_type": "stream",
     "text": [
      "Warnung: Die Spalte 'Geschlecht' ist nicht im DataFrame enthalten.\n",
      "                Koeffizient\n",
      "Alter               6612.70\n",
      "Einkommen          16487.79\n",
      "Geschlecht_1.0      1146.39\n",
      "Geschlecht_nan        -6.25\n",
      "\n",
      "Die Variable 'Einkommen' hat mit einem Wert von 16487.79 den höchsten absoluten Koeffizientenwert und beeinflusst damit den Preis des Autos am meisten.\n"
     ]
    }
   ],
   "source": [
    "# combined = pd.read_csv('combined.csv')\n",
    "\n",
    "# Entfernen von Zeilen mit fehlenden Werten in den relevanten Spalten\n",
    "combined = combined.dropna()\n",
    "\n",
    "# Entfernen von negativen Werten in den Spalten \"Einkommen\" und \"Preis\"\n",
    "combined = combined[(combined['Einkommen'] >= 0) & (combined['Preis'] >= 0)]\n",
    "\n",
    "# Konvertieren von Kategorien in numerische Werte (falls notwendig)\n",
    "if 'Geschlecht' in combined.columns:\n",
    "    combined = pd.get_dummies(combined, columns=['Geschlecht'], drop_first=True)\n",
    "else:\n",
    "    print(\"Warnung: Die Spalte 'Geschlecht' ist nicht im DataFrame enthalten.\")\n",
    "\n",
    "# Auswahl der Merkmale und der Zielvariable\n",
    "features = ['Alter', 'Einkommen'] + [col for col in combined.columns if 'Geschlecht' in col]\n",
    "target = 'Preis'\n",
    "X = combined[features]\n",
    "y = combined[target]\n",
    "\n",
    "# Standardisieren der Merkmale\n",
    "scaler = StandardScaler()\n",
    "X_scaled = scaler.fit_transform(X)\n",
    "\n",
    "# Durchführen der Regressionsanalyse\n",
    "X_train, X_test, y_train, y_test = train_test_split(X_scaled, y, test_size=0.2, random_state=42)\n",
    "model = LinearRegression()\n",
    "model.fit(X_train, y_train)\n",
    "score = model.score(X_test, y_test)\n",
    "#print(f'Modell R^2 Score: {score}')\n",
    "\n",
    "# Regressionskoeffizienten anzeigen\n",
    "coefficients = model.coef_\n",
    "coeff_df = pd.DataFrame(coefficients, index=features, columns=['Koeffizient'])\n",
    "print(coeff_df.round(2))\n",
    "\n",
    "# Interpretieren der Regressionskoeffizienten\n",
    "max_coefficient = coeff_df.max().round(2)[0]\n",
    "print()\n",
    "print(f\"Die Variable 'Einkommen' hat mit einem Wert von {max_coefficient} den höchsten absoluten Koeffizientenwert und beeinflusst damit den Preis des Autos am meisten.\")"
   ]
  },
  {
   "cell_type": "markdown",
   "id": "994cad76",
   "metadata": {},
   "source": [
    "# F17. Schätzen Sie eine Regression, die die Wahrscheinlichkeit des Kaufs eines Autos ermittelt. "
   ]
  },
  {
   "cell_type": "code",
   "execution_count": 18,
   "id": "e2c5cab5",
   "metadata": {},
   "outputs": [
    {
     "name": "stdout",
     "output_type": "stream",
     "text": [
      "Index(['Alter', 'Einkommen', 'Preis', 'Geschlecht', 'Zeit', 'KundeNr',\n",
      "       'Niederlassung'],\n",
      "      dtype='object')\n",
      "Optimization terminated successfully.\n",
      "         Current function value: 0.596543\n",
      "         Iterations 9\n",
      "                           Logit Regression Results                           \n",
      "==============================================================================\n",
      "Dep. Variable:                Gekauft   No. Observations:                 1995\n",
      "Model:                          Logit   Df Residuals:                     1991\n",
      "Method:                           MLE   Df Model:                            3\n",
      "Date:                Tue, 25 Jun 2024   Pseudo R-squ.:                  0.1322\n",
      "Time:                        13:31:10   Log-Likelihood:                -1190.1\n",
      "converged:                       True   LL-Null:                       -1371.4\n",
      "Covariance Type:            nonrobust   LLR p-value:                 2.697e-78\n",
      "==============================================================================\n",
      "                 coef    std err          z      P>|z|      [0.025      0.975]\n",
      "------------------------------------------------------------------------------\n",
      "const         -2.2253      0.250     -8.916      0.000      -2.714      -1.736\n",
      "Alter         -0.0219      0.004     -4.994      0.000      -0.031      -0.013\n",
      "Einkommen   5.518e-09   2.48e-08      0.222      0.824   -4.31e-08    5.42e-08\n",
      "Zeit           0.0888      0.005     16.723      0.000       0.078       0.099\n",
      "==============================================================================\n",
      "   Alter  Einkommen  Zeit  Kaufwahrscheinlichkeit\n",
      "0     68    89437.0  62.0                0.857110\n",
      "1     58    65271.0  44.0                0.601499\n",
      "2     44    48195.0  29.0                0.351188\n",
      "3     37    48957.0  36.0                0.540283\n",
      "4     50    56621.0  40.0                0.557686\n"
     ]
    }
   ],
   "source": [
    "combined = pd.read_csv('combined.csv')\n",
    "\n",
    "print(combined.columns)\n",
    "\n",
    "# Umwandeln  in numerische Werte\n",
    "combined['Alter'] = pd.to_numeric(combined['Alter'], errors='coerce')\n",
    "combined['Einkommen'] = pd.to_numeric(combined['Einkommen'], errors='coerce')\n",
    "combined['Preis'] = pd.to_numeric(combined['Preis'], errors='coerce')\n",
    "combined['Zeit'] = pd.to_numeric(combined['Zeit'], errors='coerce')\n",
    "\n",
    "#  binäre Zielvariable 'Gekauft'\n",
    "combined['Gekauft'] = np.where(combined['Preis'].notna(), 1, 0)\n",
    "\n",
    "# Filtern der Daten (NaN entfernen)\n",
    "combined = combined.dropna(subset=['Alter', 'Einkommen', 'Zeit'])\n",
    "\n",
    "# Unabhängige Variablen\n",
    "X = combined[['Alter', 'Einkommen', 'Zeit']]\n",
    "\n",
    "# Abhängige Variable\n",
    "y = combined['Gekauft']\n",
    "\n",
    "# Intercept\n",
    "X = sm.add_constant(X)\n",
    "\n",
    "# Logistische Regression\n",
    "logit_model = sm.Logit(y, X).fit()\n",
    "\n",
    "# Print des Modells\n",
    "print(logit_model.summary())\n",
    "\n",
    "# Wahrscheinlichkeitenberechnen\n",
    "combined['Kaufwahrscheinlichkeit'] = logit_model.predict(X)\n",
    "\n",
    "# Anzeige der Wahrscheinlichkeiten für die ersten Zeilen\n",
    "print(combined[['Alter', 'Einkommen', 'Zeit', 'Kaufwahrscheinlichkeit']].head())\n",
    "\n"
   ]
  },
  {
   "cell_type": "code",
   "execution_count": 19,
   "id": "b2a6fa64",
   "metadata": {},
   "outputs": [
    {
     "data": {
      "image/png": "[encoded data removed]",
      "text/plain": [
       "<Figure size 1000x600 with 1 Axes>"
      ]
     },
     "metadata": {},
     "output_type": "display_data"
    }
   ],
   "source": [
    "# Visualisierung der Kaufwahrscheinlichkeit\n",
    "plt.figure(figsize=(10, 6))\n",
    "sns.histplot(combined['Kaufwahrscheinlichkeit'], bins=30, kde=True)\n",
    "plt.title('Verteilung der Kaufwahrscheinlichkeit')\n",
    "plt.xlabel('Kaufwahrscheinlichkeit')\n",
    "plt.ylabel('Anzahl')\n",
    "plt.show()"
   ]
  },
  {
   "cell_type": "markdown",
   "id": "7ffc89f2",
   "metadata": {},
   "source": [
    "# F18. Wie hoch ist die Wahrscheinlichkeit, dass ein 32-Jähriger männlicher Kunde mit einem Einkommen von 30.000 Euro, der das Auto 30 Minuten lang getestet hat, eines unserer Modelle kauft? Wie hoch ist die Wahrscheinlichkeit, dass ein 51-Jähriger männlicher Kunde mit einem Einkommen von 54.000 euro, der das Auto 45 Minuten lang getestet hat, eines unserer Modelle kauft?\n"
   ]
  },
  {
   "cell_type": "code",
   "execution_count": 20,
   "id": "2734dc59",
   "metadata": {},
   "outputs": [
    {
     "name": "stdout",
     "output_type": "stream",
     "text": [
      "Spaltenübersicht: Index(['Alter', 'Einkommen', 'Preis', 'Geschlecht', 'Zeit', 'KundeNr',\n",
      "       'Niederlassung'],\n",
      "      dtype='object')\n",
      "Optimization terminated successfully.\n",
      "         Current function value: 0.596543\n",
      "         Iterations 9\n",
      "                           Logit Regression Results                           \n",
      "==============================================================================\n",
      "Dep. Variable:                Gekauft   No. Observations:                 1995\n",
      "Model:                          Logit   Df Residuals:                     1991\n",
      "Method:                           MLE   Df Model:                            3\n",
      "Date:                Tue, 25 Jun 2024   Pseudo R-squ.:                  0.1322\n",
      "Time:                        13:31:10   Log-Likelihood:                -1190.1\n",
      "converged:                       True   LL-Null:                       -1371.4\n",
      "Covariance Type:            nonrobust   LLR p-value:                 2.697e-78\n",
      "==============================================================================\n",
      "                 coef    std err          z      P>|z|      [0.025      0.975]\n",
      "------------------------------------------------------------------------------\n",
      "const         -2.2253      0.250     -8.916      0.000      -2.714      -1.736\n",
      "Alter         -0.0219      0.004     -4.994      0.000      -0.031      -0.013\n",
      "Einkommen   5.518e-09   2.48e-08      0.222      0.824   -4.31e-08    5.42e-08\n",
      "Zeit           0.0888      0.005     16.723      0.000       0.078       0.099\n",
      "==============================================================================\n",
      "Die Wahrscheinlichkeit, dass ein 32-jähriger Kunde mit einem Einkommen von 30.000 Euro und 30 Minuten Testzeit ein Auto kauft, beträgt 60.70%.\n",
      "Die Wahrscheinlichkeit, dass ein 51-jähriger Kunde mit einem Einkommen von 54.000 Euro und 45 Minuten Testzeit ein Auto kauft, beträgt 65.88%.\n"
     ]
    }
   ],
   "source": [
    "combined = pd.read_csv('combined.csv')\n",
    "\n",
    "print(\"Spaltenübersicht:\", combined.columns)\n",
    "\n",
    "# numerische Werte\n",
    "combined['Alter'] = pd.to_numeric(combined['Alter'], errors='coerce')\n",
    "combined['Einkommen'] = pd.to_numeric(combined['Einkommen'], errors='coerce')\n",
    "combined['Preis'] = pd.to_numeric(combined['Preis'], errors='coerce')\n",
    "combined['Zeit'] = pd.to_numeric(combined['Zeit'], errors='coerce')\n",
    "\n",
    "# Binäre Zielvariable 'Gekauft' erstellen, wobei 1 = gekauft, 0 = nicht gekauft\n",
    "combined['Gekauft'] = np.where(combined['Preis'].notna(), 1, 0)\n",
    "\n",
    "# Entfernen von Zeilen mit fehlenden Werten in den relevanten Spalten\n",
    "combined = combined.dropna(subset=['Alter', 'Einkommen', 'Zeit'])\n",
    "\n",
    "# Unabhängige Variablen \n",
    "X = combined[['Alter', 'Einkommen', 'Zeit']]\n",
    "\n",
    "# Abhängige Variable\n",
    "y = combined['Gekauft']\n",
    "\n",
    "# Intercept zur Regressionsgleichung\n",
    "X = sm.add_constant(X)\n",
    "\n",
    "# logistische Regression\n",
    "logit_model = sm.Logit(y, X).fit()\n",
    "\n",
    "# Zusammenfassung des Modells ausgeben\n",
    "print(logit_model.summary())\n",
    "\n",
    "# Spezifikationen aus der Aufgabenstellung\n",
    "# Kunde 1: 32 Jahre alt, 30.000 Euro Einkommen, 30 Minuten Testzeit\n",
    "kunde_1 = {'const': 1, 'Alter': 32, 'Einkommen': 30000, 'Zeit': 30}\n",
    "\n",
    "# Kunde 2: 51 Jahre alt, 54.000 Euro Einkommen, 45 Minuten Testzeit\n",
    "kunde_2 = {'const': 1, 'Alter': 51, 'Einkommen': 54000, 'Zeit': 45}\n",
    "\n",
    "# Umwandeln in DataFrames \n",
    "kunde_1_df = pd.DataFrame([kunde_1])\n",
    "kunde_2_df = pd.DataFrame([kunde_2])\n",
    "\n",
    "# Berechnung der Logit-Werte, sog. logodds, für die beiden Kunden\n",
    "logit_kunde_1 = logit_model.predict(kunde_1_df)\n",
    "logit_kunde_2 = logit_model.predict(kunde_2_df)\n",
    "\n",
    "# Umwandlung der Werte in Prozent\n",
    "wahrscheinlichkeit_kunde_1 = (1 / (1 + np.exp(-logit_kunde_1))) * 100\n",
    "wahrscheinlichkeit_kunde_2 = (1 / (1 + np.exp(-logit_kunde_2))) * 100\n",
    "\n",
    "# Ausgabe der Wahrscheinlichkeiten in Prozent\n",
    "print(f\"Die Wahrscheinlichkeit, dass ein 32-jähriger Kunde mit einem Einkommen von 30.000 Euro und 30 Minuten Testzeit ein Auto kauft, beträgt {wahrscheinlichkeit_kunde_1.iloc[0]:.2f}%.\")\n",
    "print(f\"Die Wahrscheinlichkeit, dass ein 51-jähriger Kunde mit einem Einkommen von 54.000 Euro und 45 Minuten Testzeit ein Auto kauft, beträgt {wahrscheinlichkeit_kunde_2.iloc[0]:.2f}%.\")"
   ]
  },
  {
   "cell_type": "markdown",
   "id": "bb248952",
   "metadata": {},
   "source": [
    "# F19. Auf welche Probleme sind Sie bei der Zusammenführung des Datensatzes gestoßen?"
   ]
  },
  {
   "cell_type": "code",
   "execution_count": 30,
   "id": "495a8271",
   "metadata": {},
   "outputs": [
    {
     "name": "stdout",
     "output_type": "stream",
     "text": [
      "Folgende Probleme sind aufgetreten:\n",
      "\n",
      "1. Einfügen einer fehlenden Spalte: besucher['Preis'] = ''\n",
      "\n",
      "2. Einfügen der Spalte und Setzen an richtige Stelle: cols.insert()\n",
      "\n",
      "3. Ersetzen der falsch bezeichneten Bundesländer: land['Niederlassung'].replace()\n",
      "\n",
      "4. Zusammenführen der .csv und -txt Dateien: combined = pd.merge(combined_draft, land, on='KundeNr', how='right')\n",
      "\n",
      "5. Ersetzen von ',' in '.': combined['Zeit'].astype(str).str.replace(',', '.', regex=False)\n",
      "\n",
      "6. Umwandeln der Werte in numerische Werte: combined[col] = pd.to_numeric()\n",
      "\n",
      "7. Ersetzen der Ausreißer durch den Medianwert: combined[col] = np.where(np.abs(z_scores[col]) > 3, median, combined[col])\n"
     ]
    }
   ],
   "source": [
    "print(\"Folgende Probleme sind aufgetreten:\\n\\n\"\n",
    "     \n",
    "    \"1. Einfügen einer fehlenden Spalte: besucher['Preis'] = ''\\n\\n\"\n",
    "    \"2. Einfügen der Spalte und Setzen an richtige Stelle: cols.insert()\\n\\n\"\n",
    "    \"3. Ersetzen der falsch bezeichneten Bundesländer: land['Niederlassung'].replace()\\n\\n\"\n",
    "    \"4. Zusammenführen der .csv und -txt Dateien: combined = pd.merge(combined_draft, land, on='KundeNr', how='right')\\n\\n\"\n",
    "    \"5. Ersetzen von ',' in '.': combined['Zeit'].astype(str).str.replace(',', '.', regex=False)\\n\\n\"\n",
    "    \"6. Umwandeln der Werte in numerische Werte: combined[col] = pd.to_numeric()\\n\\n\"\n",
    "    \"7. Ersetzen der Ausreißer durch den Medianwert: combined[col] = np.where(np.abs(z_scores[col]) > 3, median, combined[col])\")"
   ]
  },
  {
   "cell_type": "markdown",
   "id": "817f0322",
   "metadata": {},
   "source": [
    "# F20. Welche Vorschläge würden Sie der Kundenabteilung für die Umfrage im nächsten Jahr machen? Welche zusätzlichen Informationen sollten gesammelt werden? Formulieren Sie zwei Vorschläge."
   ]
  },
  {
   "cell_type": "markdown",
   "id": "328e4a8a",
   "metadata": {},
   "source": [
    "# Vorschläge für die nächste Kundenumfrage\n",
    "\n",
    "## Vorschlag 1: Erfassung von Kundenzufriedenheit und Nutzungsmuster\n",
    "\n",
    "**Ziel:** Besseres Verständnis der Kundenzufriedenheit und Nutzungsmuster.\n",
    "\n",
    "1. **Kundenzufriedenheit:**\n",
    "   - Wie zufrieden sind Sie mit dem gekauften Elektroauto? (Skala von 1 bis 5)\n",
    "   - Wie bewerten Sie den Kundenservice von Elektrauto AG? (Skala von 1 bis 5)\n",
    "   - Würden Sie Elektrauto AG weiterempfehlen? (Ja oder Nein)\n",
    "   \n",
    "2. **Nutzungsmuster:**\n",
    "   - Wie oft nutzen Sie Ihr Elektroauto pro Woche? (Anzahl der Tage)\n",
    "   - Wie viele Kilometer fahren Sie durchschnittlich pro Woche? (Angabe in km/Woche)\n",
    "   \n",
    "   \n",
    "## Vorschlag 2: Erfassung von Umweltbewusstsein und Ladeverhalten\n",
    "\n",
    "**Ziel:** Besseres Verständnis von Umweltbewusstsein der Kunden sowie deren Ladeverhalten.\n",
    "\n",
    "**Zusätzliche Informationen:**\n",
    "\n",
    "1. **Umweltbewusstsein:**\n",
    "   - Wie wichtig war der Umweltaspekt bei Ihrer Kaufentscheidung? (Skala von 1 bis 5)\n",
    "   - Wie hoch schätzen Sie Ihren CO2-Fußabdruck im Vergleich zu vor dem Kauf des Elektroautos? (Reduziert/Unverändert/Erhöht)\n",
    "\n",
    "2. **Ladeverhalten:**\n",
    "   - Wo laden Sie Ihr Elektroauto hauptsächlich? (Zuhause/Öffentliche Ladestationen/Arbeitsplatz)\n",
    "   - Wie oft laden Sie Ihr Elektroauto pro Woche?\n",
    "   \n",
    "   \n"
   ]
  }
 ],
 "metadata": {
  "kernelspec": {
   "display_name": "Python 3 (ipykernel)",
   "language": "python",
   "name": "python3"
  },
  "language_info": {
   "codemirror_mode": {
    "name": "ipython",
    "version": 3
   },
   "file_extension": ".py",
   "mimetype": "text/x-python",
   "name": "python",
   "nbconvert_exporter": "python",
   "pygments_lexer": "ipython3",
   "version": "3.11.5"
  }
 },
 "nbformat": 4,
 "nbformat_minor": 5
}
