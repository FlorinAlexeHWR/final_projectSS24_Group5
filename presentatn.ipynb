{
 "cells": [
  {
   "cell_type": "code",
   "execution_count": 1,
   "id": "9b96aaf8",
   "metadata": {
    "slideshow": {
     "slide_type": "-"
    }
   },
   "outputs": [],
   "source": [
    "import pandas as pd\n",
    "import numpy as np\n",
    "import matplotlib.pyplot as plt"
   ]
  },
  {
   "cell_type": "markdown",
   "id": "8170fa1a",
   "metadata": {
    "slideshow": {
     "slide_type": "slide"
    }
   },
   "source": [
    "# Elektrauto AG\n",
    "HWR Berlin, SoSe 2024\n",
    "\n",
    "von Florin Alexe, Patrick Müller, Liam Klimek"
   ]
  },
  {
   "cell_type": "markdown",
   "id": "8853a64a",
   "metadata": {
    "slideshow": {
     "slide_type": "slide"
    }
   },
   "source": [
    "# Präsentation der Datenanalyse für Elektrauto AG\n",
    "\n",
    "## Ziel der Analyse\n",
    "Sozioökonomische Merkmale unserer Kunden analysieren und die Faktoren identifizieren, die zum Kauf eines Autos führen.\n",
    "\n",
    "Dadurch werden unsere Marketingstrategien verbessert und Kundenservice optimiert."
   ]
  },
  {
   "cell_type": "code",
   "execution_count": null,
   "id": "dc8e9494",
   "metadata": {},
   "outputs": [],
   "source": []
  }
 ],
 "metadata": {
  "celltoolbar": "Slideshow",
  "kernelspec": {
   "display_name": "Python 3 (ipykernel)",
   "language": "python",
   "name": "python3"
  },
  "language_info": {
   "codemirror_mode": {
    "name": "ipython",
    "version": 3
   },
   "file_extension": ".py",
   "mimetype": "text/x-python",
   "name": "python",
   "nbconvert_exporter": "python",
   "pygments_lexer": "ipython3",
   "version": "3.11.5"
  }
 },
 "nbformat": 4,
 "nbformat_minor": 5
}
