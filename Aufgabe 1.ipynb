{
 "cells": [
  {
   "cell_type": "code",
   "execution_count": 1,
   "id": "a6058d3c",
   "metadata": {},
   "outputs": [
    {
     "name": "stdout",
     "output_type": "stream",
     "text": [
      "Es wurden insgesamt 1104 Autos verkauft.\n"
     ]
    }
   ],
   "source": [
    "import pandas as pd\n",
    "\n",
    "# Importieren der zusammengefügten Datei \"combined.csv\" und Aufteilen der Werte in Zeilen\n",
    "combined = pd.read_csv('combined.csv', sep = ',')\n",
    "\n",
    "# Zählen der Preis und dadurch die Anzahl der verkauften Autos\n",
    "verkaufte_autos  = combined['Preis'].count()\n",
    "\n",
    "# Ausgeben des Ergebnisses\n",
    "print(f\"Es wurden insgesamt {verkaufte_autos} Autos verkauft.\")"
   ]
  }
 ],
 "metadata": {
  "kernelspec": {
   "display_name": "Python 3 (ipykernel)",
   "language": "python",
   "name": "python3"
  },
  "language_info": {
   "codemirror_mode": {
    "name": "ipython",
    "version": 3
   },
   "file_extension": ".py",
   "mimetype": "text/x-python",
   "name": "python",
   "nbconvert_exporter": "python",
   "pygments_lexer": "ipython3",
   "version": "3.11.5"
  }
 },
 "nbformat": 4,
 "nbformat_minor": 5
}
