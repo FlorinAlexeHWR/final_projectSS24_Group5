{
 "cells": [
  {
   "cell_type": "code",
   "execution_count": 1,
   "id": "2570aee2",
   "metadata": {},
   "outputs": [
    {
     "name": "stdout",
     "output_type": "stream",
     "text": [
      "Insgesamt haben 701 Männer unsere Autos gekauft.\n",
      "Insgesamt haben 398 Frauen unsere Autos gekauft.\n",
      "\n",
      "Wir haben mehr männliche Kunden.\n"
     ]
    }
   ],
   "source": [
    "import pandas as pd\n",
    "\n",
    "combined = pd.read_csv('combined.csv')\n",
    "\n",
    "# Filtern nach \"Preis\", sodass nur die verkauften Autos betrachtet werden\n",
    "verkaufte_autos = combined.dropna(subset=['Preis'])\n",
    "\n",
    "# Anzahl der verkauften Autos nach Geschlecht zählen\n",
    "geschlechter = verkaufte_autos['Geschlecht'].value_counts()\n",
    "\n",
    "# Berechnung der Ergebnisse\n",
    "maenner = geschlechter.get(1, 0)\n",
    "frauen = geschlechter.get(0, 0)\n",
    "\n",
    "# Ausgabe der Ergbenisse\n",
    "print(f\"Insgesamt haben {maenner} Männer unsere Autos gekauft.\")\n",
    "print(f\"Insgesamt haben {frauen} Frauen unsere Autos gekauft.\\n\")\n",
    "\n",
    "# Berechnung und Ausgabe des Ergebnisses, ob mehr männliche oder mehr weibliche Kunden\n",
    "if maenner > frauen:\n",
    "    print(\"Wir haben mehr männliche Kunden.\")\n",
    "elif frauen > maenner:\n",
    "    print(\"Wir haben mehr weibliche Kunden.\")\n",
    "else:\n",
    "    print(\"Unsere Kundschaft ist zu gleichen Teilen männlich und weiblich.\")"
   ]
  }
 ],
 "metadata": {
  "kernelspec": {
   "display_name": "Python 3 (ipykernel)",
   "language": "python",
   "name": "python3"
  },
  "language_info": {
   "codemirror_mode": {
    "name": "ipython",
    "version": 3
   },
   "file_extension": ".py",
   "mimetype": "text/x-python",
   "name": "python",
   "nbconvert_exporter": "python",
   "pygments_lexer": "ipython3",
   "version": "3.11.5"
  }
 },
 "nbformat": 4,
 "nbformat_minor": 5
}
