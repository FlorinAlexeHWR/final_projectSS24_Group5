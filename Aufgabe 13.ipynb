{
 "cells": [
  {
   "cell_type": "code",
   "execution_count": 1,
   "id": "6275f210",
   "metadata": {},
   "outputs": [
    {
     "name": "stdout",
     "output_type": "stream",
     "text": [
      "Es haben insgesamt 1098 Kunden einen Kredit für den Kauf aufgenommen.\n"
     ]
    }
   ],
   "source": [
    "import pandas as pd\n",
    "\n",
    "combined = pd.read_csv('combined.csv')\n",
    "\n",
    "# Annahme: Kunden, deren Gehalt höher ist als der Kaufpreis nehmen keinen Kredit auf\n",
    "kunden_mit_kredit = combined[combined['Einkommen'] < combined['Preis']]\n",
    "\n",
    "# Kunden die einen Kredit aufgenommen haben zählen\n",
    "kredite = len(kunden_mit_kredit)\n",
    "\n",
    "# Ausgabe des Ergebnisses\n",
    "print(f\"Es haben insgesamt {kredite} Kunden einen Kredit für den Kauf aufgenommen.\")"
   ]
  }
 ],
 "metadata": {
  "kernelspec": {
   "display_name": "Python 3 (ipykernel)",
   "language": "python",
   "name": "python3"
  },
  "language_info": {
   "codemirror_mode": {
    "name": "ipython",
    "version": 3
   },
   "file_extension": ".py",
   "mimetype": "text/x-python",
   "name": "python",
   "nbconvert_exporter": "python",
   "pygments_lexer": "ipython3",
   "version": "3.11.5"
  }
 },
 "nbformat": 4,
 "nbformat_minor": 5
}
