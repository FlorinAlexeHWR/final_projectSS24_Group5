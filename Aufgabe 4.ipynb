{
 "cells": [
  {
   "cell_type": "code",
   "execution_count": 1,
   "id": "f6fd2a1d",
   "metadata": {},
   "outputs": [
    {
     "name": "stdout",
     "output_type": "stream",
     "text": [
      "Anzahl verkaufter Autos pro Bundesland:\n",
      "\n",
      "         Bundesland  Verkaufte Autos\n",
      "        Brandenburg               37\n",
      "            Hamburg               43\n",
      "          Thüringen               49\n",
      "            Sachsen               89\n",
      "             Hessen               96\n",
      "      Niedersachsen               96\n",
      "             Berlin              126\n",
      "Nordrhein-Westfalen              175\n",
      "             Bayern              188\n",
      "  Baden-Württemberg              205\n"
     ]
    }
   ],
   "source": [
    "import pandas as pd\n",
    "\n",
    "combined = pd.read_csv('combined.csv')\n",
    "\n",
    "# Gruppieren der Bundesländer und Zählen der Preise, daher auch Anzahl verkaufter Autos. Zurücksetzen des Indexes.\n",
    "verkäufe_pro_bundesland = combined.groupby('Niederlassung')['Preis'].count().reset_index()\n",
    "\n",
    "# Umbenennen der Spalten \"Niederlassung\" und \"Preis\"\n",
    "verkäufe_pro_bundesland = verkäufe_pro_bundesland.rename(columns={'Niederlassung': 'Bundesland', 'Preis': 'Verkaufte Autos'}).sort_values('Verkaufte Autos').reset_index(drop = True)\n",
    "\n",
    "# Überschrift für das Ergebnis\n",
    "print(\"Anzahl verkaufter Autos pro Bundesland:\\n\")\n",
    "\n",
    "# Ausgeben des Ergebnisses und Entfernen des Indexes\n",
    "print(verkäufe_pro_bundesland.to_string(index = False))"
   ]
  }
 ],
 "metadata": {
  "kernelspec": {
   "display_name": "Python 3 (ipykernel)",
   "language": "python",
   "name": "python3"
  },
  "language_info": {
   "codemirror_mode": {
    "name": "ipython",
    "version": 3
   },
   "file_extension": ".py",
   "mimetype": "text/x-python",
   "name": "python",
   "nbconvert_exporter": "python",
   "pygments_lexer": "ipython3",
   "version": "3.11.5"
  }
 },
 "nbformat": 4,
 "nbformat_minor": 5
}
